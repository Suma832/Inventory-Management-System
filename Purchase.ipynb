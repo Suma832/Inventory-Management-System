{
  "nbformat": 4,
  "nbformat_minor": 0,
  "metadata": {
    "colab": {
      "name": "Purchase",
      "provenance": [],
      "collapsed_sections": []
    },
    "kernelspec": {
      "name": "python3",
      "display_name": "Python 3"
    },
    "language_info": {
      "name": "python"
    }
  },
  "cells": [
    {
      "cell_type": "markdown",
      "metadata": {
        "id": "l0WnnmZi7F_P"
      },
      "source": [
        "# **Reading** **data** **from** **json**"
      ]
    },
    {
      "cell_type": "code",
      "metadata": {
        "id": "J1D4zcJw7EqF"
      },
      "source": [
        "fd=open(\"record.json\",'r')\n",
        "r=fd.read()\n",
        "fd.close()"
      ],
      "execution_count": 48,
      "outputs": []
    },
    {
      "cell_type": "code",
      "metadata": {
        "id": "WrlNmkO772DH"
      },
      "source": [
        "import json"
      ],
      "execution_count": 25,
      "outputs": []
    },
    {
      "cell_type": "code",
      "metadata": {
        "id": "CH8wqUOY7qm9"
      },
      "source": [
        "records=json.loads(r)"
      ],
      "execution_count": 49,
      "outputs": []
    },
    {
      "cell_type": "code",
      "metadata": {
        "id": "9C4yv9vjH20T"
      },
      "source": [
        ""
      ],
      "execution_count": null,
      "outputs": []
    },
    {
      "cell_type": "code",
      "metadata": {
        "colab": {
          "base_uri": "https://localhost:8080/"
        },
        "id": "CTq0ptkJ7tnM",
        "outputId": "08ae57a7-2583-4953-d6d0-5bcba928850c"
      },
      "source": [
        "records"
      ],
      "execution_count": 50,
      "outputs": [
        {
          "output_type": "execute_result",
          "data": {
            "text/plain": [
              "{'101': {'Price': 10, 'Product name': 'Bingo', 'Quantity': 30},\n",
              " '102': {'Price': 20, 'Product name': 'Marie Gold Biscuits', 'Quantity': 100},\n",
              " '103': {'Price': 35, 'Product name': 'Maggie noodles', 'Quantity': 90},\n",
              " '104': {'Price': 25, 'Product name': 'Yippee noodles', 'Quantity': 100},\n",
              " '105': {'Price': 30, 'Product name': 'Good day biscuits', 'Quantity': 80},\n",
              " '106': {'Price': 20, 'Product name': 'Bourbon Biscuits', 'Quantity': 80},\n",
              " '107': {'Price': 30, 'Product name': 'Oreo Biscuits', 'Quantity': 100},\n",
              " '108': {'Price': 20, 'Product name': 'Dairy milk chocolate', 'Quantity': 65},\n",
              " '109': {'Price': 50, 'Product name': 'Milky bar', 'Quantity': 90},\n",
              " '110': {'Price': 200, 'Product name': 'Boost packet', 'Quantity': 500},\n",
              " '111': {'Price': 135, 'Product name': 'Horlicks', 'Quantity': 90},\n",
              " '112': {'Price': 130, 'Product name': 'Bournvita', 'Quantity': 100},\n",
              " '113': {'Price': 160, 'Product name': 'Dry fruits', 'Quantity': 49},\n",
              " '114': {'Price': 40, 'Product name': 'Honey', 'Quantity': 500},\n",
              " '115': {'Price': 15, 'Product name': 'Dates', 'Quantity': 100},\n",
              " '116': {'Price': 20, 'Product name': 'Fair and lovely', 'Quantity': 70},\n",
              " '117': {'Price': 120, 'Product name': 'Orange Peel off mask', 'Quantity': 90},\n",
              " '118': {'Price': 50, 'Product name': 'Oats', 'Quantity': 50},\n",
              " '119': {'Price': 75, 'Product name': 'Sugar', 'Quantity': 90},\n",
              " '120': {'Price': 200, 'Product name': 'Salt', 'Quantity': 70},\n",
              " '121': {'Price': 160, 'Product name': 'Sunflower oil', 'Quantity': 80},\n",
              " '122': {'Price': 500, 'Product name': 'Turmeric', 'Quantity': 120},\n",
              " '123': {'Price': 30, 'Product name': 'Red chilli powder', 'Quantity': 100},\n",
              " '124': {'Price': 15, 'Product name': 'Kissan jam', 'Quantity': 70},\n",
              " '125': {'Price': 30, 'Product name': 'Tomato sause', 'Quantity': 90},\n",
              " '126': {'Price': 20, 'Product name': 'Chana dal', 'Quantity': 100},\n",
              " '127': {'Price': 90, 'Product name': 'Besan flour', 'Quantity': 90},\n",
              " '128': {'Price': 100, 'Product name': 'Rice flour', 'Quantity': 100},\n",
              " '129': {'Price': 100, 'Product name': 'Dettol ', 'Quantity': 50},\n",
              " '130': {'Price': 40, 'Product name': 'Santoor soap', 'Quantity': 20},\n",
              " '131': {'price': 20, 'prod_name': 'pen', 'quantity': 30}}"
            ]
          },
          "metadata": {},
          "execution_count": 50
        }
      ]
    },
    {
      "cell_type": "markdown",
      "metadata": {
        "id": "PuXbgb9b8L04"
      },
      "source": [
        "## **Purchase**"
      ]
    },
    {
      "cell_type": "code",
      "metadata": {
        "colab": {
          "base_uri": "https://localhost:8080/"
        },
        "id": "VarK_SZX_mGg",
        "outputId": "62e02a6d-8719-49ea-fba4-4862464411b6"
      },
      "source": [
        "ui_prod =str(input(\"Enter product id\"))\n",
        "ui_quan =int(input(\"Enter product quantity\"))"
      ],
      "execution_count": 14,
      "outputs": [
        {
          "name": "stdout",
          "output_type": "stream",
          "text": [
            "Enter product id105\n",
            "Enter product quantity1\n"
          ]
        }
      ]
    },
    {
      "cell_type": "code",
      "metadata": {
        "colab": {
          "base_uri": "https://localhost:8080/"
        },
        "id": "Il3CddLa8IRz",
        "outputId": "bfc3e3f2-a7df-4a59-c5c7-7df2d0b97a9a"
      },
      "source": [
        "ui_prod =str(input(\"Enter product id\"))\n",
        "ui_quan =int(input(\"Enter product quantity\"))\n",
        "\n",
        "print(\"Product:\", records[ui_prod]['Product name'])\n",
        "print(\"Product price:\", records[ui_prod]['Price'])\n",
        "print(\"Billing Amount:\", records[ui_prod]['Price']* ui_quan)\n",
        "\n",
        "records[ui_prod]['Quantity']=records[ui_prod]['Quantity']- ui_quan"
      ],
      "execution_count": 183,
      "outputs": [
        {
          "output_type": "stream",
          "name": "stdout",
          "text": [
            "Enter product id121\n",
            "Enter product quantity3\n",
            "Product: Sunflower oil\n",
            "Product price: 160\n",
            "Billing Amount: 480\n"
          ]
        }
      ]
    },
    {
      "cell_type": "markdown",
      "metadata": {
        "id": "pOtIunHZC8iy"
      },
      "source": [
        ""
      ]
    },
    {
      "cell_type": "code",
      "metadata": {
        "colab": {
          "base_uri": "https://localhost:8080/"
        },
        "id": "AbhVOQvqEKuS",
        "outputId": "477187da-8a05-43e4-cae9-3c9f010e4aa2"
      },
      "source": [
        "records"
      ],
      "execution_count": 184,
      "outputs": [
        {
          "output_type": "execute_result",
          "data": {
            "text/plain": [
              "{'101': {'Price': 10, 'Product name': 'Bingo', 'Quantity': 29},\n",
              " '102': {'Price': 20, 'Product name': 'Marie Gold Biscuits', 'Quantity': 98},\n",
              " '103': {'Price': 35, 'Product name': 'Maggie noodles', 'Quantity': 90},\n",
              " '104': {'Price': 25, 'Product name': 'Yippee noodles', 'Quantity': 100},\n",
              " '105': {'Price': 30, 'Product name': 'Good day biscuits', 'Quantity': 78},\n",
              " '106': {'Price': 20, 'Product name': 'Bourbon Biscuits', 'Quantity': 80},\n",
              " '107': {'Price': 30, 'Product name': 'Oreo Biscuits', 'Quantity': 100},\n",
              " '108': {'Price': 20, 'Product name': 'Dairy milk chocolate', 'Quantity': 65},\n",
              " '109': {'Price': 50, 'Product name': 'Milky bar', 'Quantity': 90},\n",
              " '110': {'Price': 200, 'Product name': 'Boost packet', 'Quantity': 500},\n",
              " '111': {'Price': 135, 'Product name': 'Horlicks', 'Quantity': 83},\n",
              " '112': {'Price': 130, 'Product name': 'Bournvita', 'Quantity': 98},\n",
              " '113': {'Price': 160, 'Product name': 'Dry fruits', 'Quantity': 49},\n",
              " '114': {'Price': 40, 'Product name': 'Honey', 'Quantity': 500},\n",
              " '115': {'Price': 15, 'Product name': 'Dates', 'Quantity': 98},\n",
              " '116': {'Price': 20, 'Product name': 'Fair and lovely', 'Quantity': 70},\n",
              " '117': {'Price': 120, 'Product name': 'Orange Peel off mask', 'Quantity': 90},\n",
              " '118': {'Price': 50, 'Product name': 'Oats', 'Quantity': 50},\n",
              " '119': {'Price': 75, 'Product name': 'Sugar', 'Quantity': 90},\n",
              " '120': {'Price': 200, 'Product name': 'Salt', 'Quantity': 70},\n",
              " '121': {'Price': 160, 'Product name': 'Sunflower oil', 'Quantity': 77},\n",
              " '122': {'Price': 500, 'Product name': 'Turmeric', 'Quantity': 120},\n",
              " '123': {'Price': 30, 'Product name': 'Red chilli powder', 'Quantity': 100},\n",
              " '124': {'Price': 15, 'Product name': 'Kissan jam', 'Quantity': 70},\n",
              " '125': {'Price': 30, 'Product name': 'Tomato sause', 'Quantity': 90},\n",
              " '126': {'Price': 20, 'Product name': 'Chana dal', 'Quantity': 100},\n",
              " '127': {'Price': 90, 'Product name': 'Besan flour', 'Quantity': 90},\n",
              " '128': {'Price': 100, 'Product name': 'Rice flour', 'Quantity': 100},\n",
              " '129': {'Price': 100, 'Product name': 'Dettol ', 'Quantity': 50},\n",
              " '130': {'Price': 40, 'Product name': 'Santoor soap', 'Quantity': 20},\n",
              " '131': {'price': 20, 'prod_name': 'pen', 'quantity': 30}}"
            ]
          },
          "metadata": {},
          "execution_count": 184
        }
      ]
    },
    {
      "cell_type": "markdown",
      "metadata": {
        "id": "cFiMSVaXCv3S"
      },
      "source": [
        "## **Update** **record** **after** **purchase**"
      ]
    },
    {
      "cell_type": "code",
      "metadata": {
        "id": "Se6jWHn5CudV"
      },
      "source": [
        "js=json.dumps(records)\n",
        "\n",
        "fd=open(\"record.json\",'w')\n",
        "fd.write(js)\n",
        "fd.close()"
      ],
      "execution_count": 185,
      "outputs": []
    },
    {
      "cell_type": "code",
      "metadata": {
        "id": "jikSkAZ2CuoB"
      },
      "source": [
        ""
      ],
      "execution_count": null,
      "outputs": []
    },
    {
      "cell_type": "markdown",
      "metadata": {
        "id": "pknbmYCBH_GV"
      },
      "source": [
        "# **Sales** **json**"
      ]
    },
    {
      "cell_type": "code",
      "metadata": {
        "colab": {
          "base_uri": "https://localhost:8080/"
        },
        "id": "pMOyvB50IQbE",
        "outputId": "393c5f24-cfdf-42b1-ff20-6df6c98ae460"
      },
      "source": [
        "{'Product id' : ui_prod,'Quantity':ui_quan,'Amount':records[ui_prod]['Price']* ui_quan}"
      ],
      "execution_count": 192,
      "outputs": [
        {
          "output_type": "execute_result",
          "data": {
            "text/plain": [
              "{'Amount': 480, 'Product id': '121', 'Quantity': 3}"
            ]
          },
          "metadata": {},
          "execution_count": 192
        }
      ]
    },
    {
      "cell_type": "code",
      "metadata": {
        "id": "Fw5Me1x4JBtV"
      },
      "source": [
        "sales={'Product id' : ui_prod,'Quantity':ui_quan,'Amount':records[ui_prod]['Price']* ui_quan}"
      ],
      "execution_count": 186,
      "outputs": []
    },
    {
      "cell_type": "code",
      "metadata": {
        "id": "lk0JnyE7WUQS"
      },
      "source": [
        "sales={1:{'Product id' : ui_prod,'Quantity':ui_quan,'Amount':records[ui_prod]['Price']* ui_quan},\n",
        "       2:{'Product id' : ui_prod,'Quantity':ui_quan,'Amount':records[ui_prod]['Price']* ui_quan},\n",
        "       3:{'Product id' : ui_prod,'Quantity':ui_quan,'Amount':records[ui_prod]['Price']* ui_quan}}"
      ],
      "execution_count": 193,
      "outputs": []
    },
    {
      "cell_type": "code",
      "metadata": {
        "id": "Tc3J4gaVMH5H"
      },
      "source": [
        "fd=open(\"sales.json\",'r')\n",
        "r=fd.read()\n",
        "fd.close()"
      ],
      "execution_count": 195,
      "outputs": []
    },
    {
      "cell_type": "code",
      "metadata": {
        "id": "tHaNXy7LJ_I3"
      },
      "source": [
        "sale=json.dumps(sales)\n",
        "fd=open(\"sales.json\",'w')\n",
        "r=fd.write(sale)\n",
        "fd.close()"
      ],
      "execution_count": 194,
      "outputs": []
    },
    {
      "cell_type": "code",
      "metadata": {
        "colab": {
          "base_uri": "https://localhost:8080/",
          "height": 54
        },
        "id": "vZYl4xZeQpIH",
        "outputId": "7b81d0e9-e7e3-4dbf-c41b-fb01c3392938"
      },
      "source": [
        "r"
      ],
      "execution_count": 196,
      "outputs": [
        {
          "output_type": "execute_result",
          "data": {
            "application/vnd.google.colaboratory.intrinsic+json": {
              "type": "string"
            },
            "text/plain": [
              "'{\"1\": {\"Product id\": \"121\", \"Quantity\": 3, \"Amount\": 480}, \"2\": {\"Product id\": \"121\", \"Quantity\": 3, \"Amount\": 480}, \"3\": {\"Product id\": \"121\", \"Quantity\": 3, \"Amount\": 480}}'"
            ]
          },
          "metadata": {},
          "execution_count": 196
        }
      ]
    },
    {
      "cell_type": "code",
      "metadata": {
        "id": "MHIMhFAYhRCr"
      },
      "source": [
        ""
      ],
      "execution_count": null,
      "outputs": []
    },
    {
      "cell_type": "code",
      "metadata": {
        "colab": {
          "base_uri": "https://localhost:8080/"
        },
        "id": "RBLGMcuqSrMZ",
        "outputId": "bcf00e23-c18f-48ad-9622-77cc09a13dd3"
      },
      "source": [
        "len(sales)"
      ],
      "execution_count": 189,
      "outputs": [
        {
          "output_type": "execute_result",
          "data": {
            "text/plain": [
              "3"
            ]
          },
          "metadata": {},
          "execution_count": 189
        }
      ]
    }
  ]
}