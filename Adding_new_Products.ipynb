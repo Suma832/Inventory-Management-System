{
  "nbformat": 4,
  "nbformat_minor": 0,
  "metadata": {
    "colab": {
      "name": "Adding new Products",
      "provenance": [],
      "collapsed_sections": []
    },
    "kernelspec": {
      "name": "python3",
      "display_name": "Python 3"
    },
    "language_info": {
      "name": "python"
    }
  },
  "cells": [
    {
      "cell_type": "markdown",
      "metadata": {
        "id": "t7EGunKroTgX"
      },
      "source": [
        "# Read data from json"
      ]
    },
    {
      "cell_type": "code",
      "metadata": {
        "id": "KYW79mgynaju"
      },
      "source": [
        "fd=open(\"record.json\",'r')\n",
        "r=fd.read()\n",
        "fd.close()"
      ],
      "execution_count": 30,
      "outputs": []
    },
    {
      "cell_type": "code",
      "metadata": {
        "colab": {
          "base_uri": "https://localhost:8080/",
          "height": 163
        },
        "id": "CA1KLG795nLQ",
        "outputId": "95e94833-2b8c-4483-fe07-71e22af15532"
      },
      "source": [
        "r"
      ],
      "execution_count": 26,
      "outputs": [
        {
          "output_type": "execute_result",
          "data": {
            "application/vnd.google.colaboratory.intrinsic+json": {
              "type": "string"
            },
            "text/plain": [
              "'{\"101\": {\"Product name\": \"Bingo\", \"Price\": 10, \"Quantity\": 30},\"102\": {\"Product name\": \"Marie Gold Biscuits\", \"Price\": 20, \"Quantity\": 100},\"103\": {\"Product name\": \"Maggie noodles\", \"Price\": 35, \"Quantity\": 90},\"104\": {\"Product name\": \"Yippee noodles\", \"Price\": 25, \"Quantity\": 100}, \"105\": {\"Product name\": \"Good day biscuits\", \"Price\": 30, \"Quantity\": 80}, \"106\": {\"Product name\": \"Bourbon Biscuits\", \"Price\": 20, \"Quantity\": 80}, \"107\": {\"Product name\": \"Oreo Biscuits\", \"Price\": 30, \"Quantity\": 100}, \"108\": {\"Product name\": \"Dairy milk chocolate\", \"Price\": 20,\"Quantity\": 65},\"109\": {\"Product name\": \"Milky bar\", \"Price\": 50, \"Quantity\": 90}, \"110\": {\"Product name\": \"Boost packet\", \"Price\": 200, \"Quantity\": 500}, \"111\": {\"Product name\": \"Horlicks\", \"Price\": 135, \"Quantity\": 90}, \"112\": {\"Product name\": \"Bournvita\", \"Price\": 130, \"Quantity\": 100}, \"113\": {\"Product name\": \"Dry fruits\", \"Price\": 160, \"Quantity\": 50},\"114\": {\"Product name\": \"Honey\", \"Price\": 40, \"Quantity\": 500}, \"115\": {\"Product name\": \"Dates\", \"Price\": 15, \"Quantity\": 100},\"116\": {\"Product name\": \"Fair and lovely\", \"Price\": 20, \"Quantity\": 70},\"117\": {\"Product name\": \"Orange Peel off mask\", \"Price\": 120, \"Quantity\": 90},\"118\": {\"Product name\": \"Oats\", \"Price\": 50,\"Quantity\": 50},\"119\": {\"Product name\": \"Sugar\", \"Price\": 75, \"Quantity\": 90}, \"120\": {\"Product name\": \"Salt\", \"Price\": 200, \"Quantity\": 70},\"121\": {\"Product name\": \"Sunflower oil\", \"Price\": 160, \"Quantity\": 80},\"122\": {\"Product name\": \"Turmeric\", \"Price\": 500, \"Quantity\": 120}, \"123\": {\"Product name\": \"Red chilli powder\", \"Price\": 30, \"Quantity\": 100},\"124\": {\"Product name\": \"Kissan jam\", \"Price\": 15, \"Quantity\": 70},\"125\": {\"Product name\": \"Tomato sause\", \"Price\": 30,\"Quantity\": 90},\"126\": {\"Product name\": \"Chana dal\", \"Price\": 20, \"Quantity\": 100},\"127\": {\"Product name\": \"Besan flour\", \"Price\": 90, \"Quantity\": 90}, \"128\": {\"Product name\": \"Rice flour\", \"Price\": 100, \"Quantity\": 100},\"129\": {\"Product name\": \"Dettol \", \"Price\": 100, \"Quantity\": 50}, \"130\": {\"Product name\": \"Santoor soap\", \"Price\": 40, \"Quantity\": 20}}'"
            ]
          },
          "metadata": {},
          "execution_count": 26
        }
      ]
    },
    {
      "cell_type": "code",
      "metadata": {
        "id": "hLS5rMqPwIms"
      },
      "source": [
        "record=json.loads(r)"
      ],
      "execution_count": 31,
      "outputs": []
    },
    {
      "cell_type": "code",
      "metadata": {
        "colab": {
          "base_uri": "https://localhost:8080/"
        },
        "id": "p8jUXw4ZwMpR",
        "outputId": "8a1f5649-58f8-42ec-adf4-c84dba31276c"
      },
      "source": [
        "record"
      ],
      "execution_count": 32,
      "outputs": [
        {
          "output_type": "execute_result",
          "data": {
            "text/plain": [
              "{'101': {'Price': 10, 'Product name': 'Bingo', 'Quantity': 30},\n",
              " '102': {'Price': 20, 'Product name': 'Marie Gold Biscuits', 'Quantity': 100},\n",
              " '103': {'Price': 35, 'Product name': 'Maggie noodles', 'Quantity': 90},\n",
              " '104': {'Price': 25, 'Product name': 'Yippee noodles', 'Quantity': 100},\n",
              " '105': {'Price': 30, 'Product name': 'Good day biscuits', 'Quantity': 80},\n",
              " '106': {'Price': 20, 'Product name': 'Bourbon Biscuits', 'Quantity': 80},\n",
              " '107': {'Price': 30, 'Product name': 'Oreo Biscuits', 'Quantity': 100},\n",
              " '108': {'Price': 20, 'Product name': 'Dairy milk chocolate', 'Quantity': 65},\n",
              " '109': {'Price': 50, 'Product name': 'Milky bar', 'Quantity': 90},\n",
              " '110': {'Price': 200, 'Product name': 'Boost packet', 'Quantity': 500},\n",
              " '111': {'Price': 135, 'Product name': 'Horlicks', 'Quantity': 90},\n",
              " '112': {'Price': 130, 'Product name': 'Bournvita', 'Quantity': 100},\n",
              " '113': {'Price': 160, 'Product name': 'Dry fruits', 'Quantity': 50},\n",
              " '114': {'Price': 40, 'Product name': 'Honey', 'Quantity': 500},\n",
              " '115': {'Price': 15, 'Product name': 'Dates', 'Quantity': 100},\n",
              " '116': {'Price': 20, 'Product name': 'Fair and lovely', 'Quantity': 70},\n",
              " '117': {'Price': 120, 'Product name': 'Orange Peel off mask', 'Quantity': 90},\n",
              " '118': {'Price': 50, 'Product name': 'Oats', 'Quantity': 50},\n",
              " '119': {'Price': 75, 'Product name': 'Sugar', 'Quantity': 90},\n",
              " '120': {'Price': 200, 'Product name': 'Salt', 'Quantity': 70},\n",
              " '121': {'Price': 160, 'Product name': 'Sunflower oil', 'Quantity': 80},\n",
              " '122': {'Price': 500, 'Product name': 'Turmeric', 'Quantity': 120},\n",
              " '123': {'Price': 30, 'Product name': 'Red chilli powder', 'Quantity': 100},\n",
              " '124': {'Price': 15, 'Product name': 'Kissan jam', 'Quantity': 70},\n",
              " '125': {'Price': 30, 'Product name': 'Tomato sause', 'Quantity': 90},\n",
              " '126': {'Price': 20, 'Product name': 'Chana dal', 'Quantity': 100},\n",
              " '127': {'Price': 90, 'Product name': 'Besan flour', 'Quantity': 90},\n",
              " '128': {'Price': 100, 'Product name': 'Rice flour', 'Quantity': 100},\n",
              " '129': {'Price': 100, 'Product name': 'Dettol ', 'Quantity': 50},\n",
              " '130': {'Price': 40, 'Product name': 'Santoor soap', 'Quantity': 20},\n",
              " '131': {'price': 20, 'prod_name': 'pen', 'quantity': 30}}"
            ]
          },
          "metadata": {},
          "execution_count": 32
        }
      ]
    },
    {
      "cell_type": "code",
      "metadata": {
        "colab": {
          "base_uri": "https://localhost:8080/"
        },
        "id": "dFwZiZTX3JVW",
        "outputId": "1d9e76bd-6a93-44e5-90e5-f8fc74078fbc"
      },
      "source": [
        "prod_id=str(input(\"Enter Product id\"))\n",
        "prod_name=str(input(\"Enter Product name\"))\n",
        "price=int(input(\"Enter Product price\"))\n",
        "quantity=int(input(\"Enter Product quantity\"))\n",
        "\n",
        "record[prod_id]={'prod_name':prod_name,'price':price,'quantity':quantity}\n",
        "\n",
        "js=json.dumps(record)\n",
        "\n",
        "fd=open(\"record.json\",'w')\n",
        "fd.write(js)\n",
        "fd.close()"
      ],
      "execution_count": 29,
      "outputs": [
        {
          "name": "stdout",
          "output_type": "stream",
          "text": [
            "Enter Product id131\n",
            "Enter Product namepen\n",
            "Enter Product price20\n",
            "Enter Product quantity30\n"
          ]
        }
      ]
    }
  ]
}